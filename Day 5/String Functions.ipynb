{
 "cells": [
  {
   "cell_type": "markdown",
   "metadata": {},
   "source": [
    "# Question 2 :\n",
    "Write a Python program to implement 15 functions of string."
   ]
  },
  {
   "cell_type": "code",
   "execution_count": 3,
   "metadata": {},
   "outputs": [
    {
     "name": "stdout",
     "output_type": "stream",
     "text": [
      "The world is facing the bigggest Pandemic!\n",
      "capitalize: The world is facing the bigggest pandemic!\n",
      "isalpha: False\n",
      "isalnum: False\n",
      "count of a: 2\n",
      "find the postion of a: 14\n",
      "index of a: 14\n",
      "isnumaric: False\n",
      "Endswith !: True\n",
      "title: The World Is Facing The Bigggest Pandemic!\n",
      "replace: The world is facing the bigggest Pandemic.\n",
      "split: ['The', 'world', 'is', 'facing', 'the', 'bigggest', 'Pandemic!']\n",
      "islower: False\n",
      "isupper: False\n",
      "upper: THE WORLD IS FACING THE BIGGGEST PANDEMIC!\n",
      "lower: the world is facing the bigggest pandemic!\n",
      "Join: T h e   w o r l d   i s   f a c i n g   t h e   b i g g g e s t   P a n d e m i c !\n",
      "swap: tHE WORLD IS FACING THE BIGGGEST pANDEMIC!\n"
     ]
    }
   ],
   "source": [
    "s=\"The world is facing the bigggest Pandemic!\"\n",
    "print(s)\n",
    "print(\"capitalize:\",s.capitalize())\n",
    "print(\"isalpha:\",s.isalpha())\n",
    "print(\"isalnum:\",s.isalnum())\n",
    "print(\"count of a:\",s.count(\"a\"))\n",
    "print(\"find the postion of a:\",s.find(\"a\"))\n",
    "print(\"index of a:\",s.index(\"a\"))\n",
    "print(\"isnumaric:\",s.isnumeric())\n",
    "print(\"Endswith !:\",s.endswith('!'))\n",
    "print(\"title:\",s.title())\n",
    "print(\"replace:\",s.replace('!','.'))\n",
    "print(\"split:\",s.split())\n",
    "print(\"islower:\",s.islower())\n",
    "print(\"isupper:\",s.isupper())\n",
    "print(\"upper:\",s.upper())\n",
    "print(\"lower:\",s.lower())\n",
    "print(\"Join:\",' '.join(s))\n",
    "print(\"swap:\",s.swapcase())"
   ]
  }
 ],
 "metadata": {
  "kernelspec": {
   "display_name": "Python 3",
   "language": "python",
   "name": "python3"
  },
  "language_info": {
   "codemirror_mode": {
    "name": "ipython",
    "version": 3
   },
   "file_extension": ".py",
   "mimetype": "text/x-python",
   "name": "python",
   "nbconvert_exporter": "python",
   "pygments_lexer": "ipython3",
   "version": "3.7.6"
  }
 },
 "nbformat": 4,
 "nbformat_minor": 4
}
