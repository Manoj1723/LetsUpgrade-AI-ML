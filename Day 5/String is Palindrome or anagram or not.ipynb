{
 "cells": [
  {
   "cell_type": "markdown",
   "metadata": {},
   "source": [
    "# Question 3:\n",
    "Write a Python program to check if the given string is a Palindrome or Anagram or None of them. Display the message accordingly to the user."
   ]
  },
  {
   "cell_type": "code",
   "execution_count": 6,
   "metadata": {},
   "outputs": [
    {
     "name": "stdout",
     "output_type": "stream",
     "text": [
      "It is both palindrome and anagram\n"
     ]
    }
   ],
   "source": [
    "s1=\"dog\"\n",
    "s2=\"god\"\n",
    "f1=f2=True\n",
    "if s1 == s2[::-1]:\n",
    "    f1=True\n",
    "else:\n",
    "    f1=False\n",
    "if sorted(s1) == sorted(s2):\n",
    "    f2=True\n",
    "else:\n",
    "    f2=False\n",
    "if f1 == False and f2 == False:    \n",
    "    print(\"It is not Palindrome nor Anagram\")\n",
    "elif f1 == True and f2 == True:\n",
    "    print(\"It is both palindrome and anagram\")\n",
    "elif f2==True:\n",
    "    print(s1,'&',s2,\"is Anagram\")\n",
    "else:\n",
    "    print(\"It is Palindrome\")"
   ]
  }
 ],
 "metadata": {
  "kernelspec": {
   "display_name": "Python 3",
   "language": "python",
   "name": "python3"
  },
  "language_info": {
   "codemirror_mode": {
    "name": "ipython",
    "version": 3
   },
   "file_extension": ".py",
   "mimetype": "text/x-python",
   "name": "python",
   "nbconvert_exporter": "python",
   "pygments_lexer": "ipython3",
   "version": "3.7.6"
  }
 },
 "nbformat": 4,
 "nbformat_minor": 4
}
