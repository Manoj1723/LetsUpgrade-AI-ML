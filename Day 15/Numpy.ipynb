{
 "cells": [
  {
   "cell_type": "code",
   "execution_count": 1,
   "metadata": {},
   "outputs": [],
   "source": [
    "# importing the numpy package\n",
    "import numpy as np"
   ]
  },
  {
   "cell_type": "markdown",
   "metadata": {},
   "source": [
    "### 1. Create a 3x3x3 array with random values"
   ]
  },
  {
   "cell_type": "code",
   "execution_count": 2,
   "metadata": {},
   "outputs": [
    {
     "name": "stdout",
     "output_type": "stream",
     "text": [
      "[[[0.01540905 0.15164631 0.83107088]\n",
      "  [0.36165862 0.56949454 0.62783475]\n",
      "  [0.88472212 0.41594101 0.19775282]]\n",
      "\n",
      " [[0.50367851 0.39941645 0.58448419]\n",
      "  [0.84406485 0.21165801 0.05958868]\n",
      "  [0.29475217 0.63539516 0.1678159 ]]\n",
      "\n",
      " [[0.86430836 0.23561017 0.44622467]\n",
      "  [0.01822941 0.17321721 0.99307711]\n",
      "  [0.03011646 0.64498851 0.41801135]]]\n"
     ]
    }
   ],
   "source": [
    "x = np.random.random((3,3,3))\n",
    "print(x)"
   ]
  },
  {
   "cell_type": "markdown",
   "metadata": {},
   "source": [
    "### 2.Create a 5x5 matrix with values 1,2,3,4 just below the diagonal"
   ]
  },
  {
   "cell_type": "code",
   "execution_count": 3,
   "metadata": {
    "scrolled": true
   },
   "outputs": [
    {
     "name": "stdout",
     "output_type": "stream",
     "text": [
      "[[0 0 0 0 0]\n",
      " [1 0 0 0 0]\n",
      " [0 2 0 0 0]\n",
      " [0 0 3 0 0]\n",
      " [0 0 0 4 0]]\n"
     ]
    }
   ],
   "source": [
    "print(np.diag(1+np.arange(4),k=-1))"
   ]
  },
  {
   "cell_type": "markdown",
   "metadata": {},
   "source": [
    "### 3.Create a 8x8 matrix and fill it with a checkerboard pattern"
   ]
  },
  {
   "cell_type": "code",
   "execution_count": 4,
   "metadata": {},
   "outputs": [
    {
     "name": "stdout",
     "output_type": "stream",
     "text": [
      "[[0 1 0 1 0 1 0 1]\n",
      " [1 0 1 0 1 0 1 0]\n",
      " [0 1 0 1 0 1 0 1]\n",
      " [1 0 1 0 1 0 1 0]\n",
      " [0 1 0 1 0 1 0 1]\n",
      " [1 0 1 0 1 0 1 0]\n",
      " [0 1 0 1 0 1 0 1]\n",
      " [1 0 1 0 1 0 1 0]]\n"
     ]
    }
   ],
   "source": [
    "x = np.zeros((8,8),dtype=int)\n",
    "x[1::2,::2] = 1\n",
    "x[::2,1::2] = 1\n",
    "print(x)"
   ]
  },
  {
   "cell_type": "markdown",
   "metadata": {},
   "source": [
    "### 4. Normalize a 5x5 random matrix"
   ]
  },
  {
   "cell_type": "code",
   "execution_count": 7,
   "metadata": {},
   "outputs": [
    {
     "name": "stdout",
     "output_type": "stream",
     "text": [
      "Array before normalization =>\n",
      "\n",
      "[[0.42677825 0.97525268 0.84935944 0.60097247 0.12257732]\n",
      " [0.35942801 0.10151857 0.45218013 0.04468351 0.63692339]\n",
      " [0.56656918 0.2152165  0.43428975 0.24161762 0.68087666]\n",
      " [0.66172513 0.08853255 0.23862901 0.94412157 0.80675325]\n",
      " [0.48626177 0.03389115 0.32148415 0.16009667 0.64893069]]\n",
      "\n",
      "Array after normalization =>\n",
      "\n",
      "[[0.41736048 1.         0.86626473 0.60240546 0.09421053]\n",
      " [0.34581491 0.07184001 0.44434467 0.01146463 0.64059579]\n",
      " [0.56585915 0.19262031 0.42533988 0.22066598 0.68728696]\n",
      " [0.66694247 0.05804507 0.21749121 0.9669297  0.82100455]\n",
      " [0.4805493  0.         0.30550749 0.134067   0.65335105]]\n"
     ]
    }
   ],
   "source": [
    "x= np.random.random((5,5))\n",
    "print(\"Array before normalization =>\\n\")\n",
    "print(x)\n",
    "xmax, xmin = x.max(), x.min()\n",
    "x = (x - xmin)/(xmax - xmin)\n",
    "print(\"\\nArray after normalization =>\\n\")\n",
    "print(x)"
   ]
  },
  {
   "cell_type": "markdown",
   "metadata": {},
   "source": [
    "### 5. How to find common values between two arrays?"
   ]
  },
  {
   "cell_type": "code",
   "execution_count": 8,
   "metadata": {},
   "outputs": [
    {
     "name": "stdout",
     "output_type": "stream",
     "text": [
      "x= [2 4 2 8 4 7 0 2 9 9] y= [3 7 7 1 3 7 9 0 7 2]\n",
      "Common values are =>\t [0 2 7 9]\n"
     ]
    }
   ],
   "source": [
    "x = np.random.randint(0,10,10)\n",
    "y = np.random.randint(0,10,10)\n",
    "print(\"x=\",x,\"y=\",y)\n",
    "print(\"Common values are =>\\t\",np.intersect1d(x,y))"
   ]
  },
  {
   "cell_type": "markdown",
   "metadata": {},
   "source": [
    "### 6.How to get the dates of yesterday, today and tomorrow?"
   ]
  },
  {
   "cell_type": "code",
   "execution_count": 9,
   "metadata": {},
   "outputs": [
    {
     "name": "stdout",
     "output_type": "stream",
     "text": [
      "Yestraday:  2020-07-26\n",
      "Today:  2020-07-27\n",
      "Tomorrow:  2020-07-28\n"
     ]
    }
   ],
   "source": [
    "day = np.datetime64('Today', 'D') \n",
    "print(\"Yestraday: \",day-np.timedelta64(1, 'D'))\n",
    "print(\"Today: \",day)\n",
    "print(\"Tomorrow: \",day+np.timedelta64(1, 'D'))"
   ]
  },
  {
   "cell_type": "markdown",
   "metadata": {},
   "source": [
    "### 7. Consider two random array A and B, check if they are equal"
   ]
  },
  {
   "cell_type": "code",
   "execution_count": 13,
   "metadata": {},
   "outputs": [
    {
     "name": "stdout",
     "output_type": "stream",
     "text": [
      "First array =>\n",
      " [0 1 0 0 1 0]\n",
      "Second array =>\n",
      " [1 1 1 1 1 0]\n",
      "\n",
      "Result of test about the above two arrays are equal or not is  False\n"
     ]
    }
   ],
   "source": [
    "x = np.random.randint(0,2,6)\n",
    "print(\"First array =>\\n\",x)\n",
    "y = np.random.randint(0,2,6)\n",
    "print(\"Second array =>\\n\",y)\n",
    "print(\"\\nResult of test about the above two arrays are equal or not is\",end='  ')\n",
    "equal = np.array_equal(x,y)\n",
    "print(equal)"
   ]
  },
  {
   "cell_type": "markdown",
   "metadata": {},
   "source": [
    "### 8.Create random vector of size 10 and replace the maximum value by 0"
   ]
  },
  {
   "cell_type": "code",
   "execution_count": 17,
   "metadata": {},
   "outputs": [
    {
     "name": "stdout",
     "output_type": "stream",
     "text": [
      "Original array:\n",
      "[1.71252669e-01 1.03275044e-03 7.82708736e-01 3.57786859e-01\n",
      " 4.66382335e-01 8.52621472e-01 2.64886606e-01 4.13134367e-01\n",
      " 3.15839641e-04 2.70108251e-01]\n",
      "\n",
      "Maximum value replaced by 0:\n",
      "[1.71252669e-01 1.03275044e-03 7.82708736e-01 3.57786859e-01\n",
      " 4.66382335e-01 0.00000000e+00 2.64886606e-01 4.13134367e-01\n",
      " 3.15839641e-04 2.70108251e-01]\n"
     ]
    }
   ],
   "source": [
    "x = np.random.random(10)\n",
    "print(\"Original array:\")\n",
    "print(x)\n",
    "x[x.argmax()] = 0\n",
    "print(\"\\nMaximum value replaced by 0:\")\n",
    "print(x)"
   ]
  },
  {
   "cell_type": "markdown",
   "metadata": {},
   "source": [
    "### 9. How to print all the values of an array?"
   ]
  },
  {
   "cell_type": "code",
   "execution_count": 30,
   "metadata": {},
   "outputs": [
    {
     "name": "stdout",
     "output_type": "stream",
     "text": [
      "[[0. 0. 0. 0.]\n",
      " [0. 0. 0. 0.]\n",
      " [0. 0. 0. 0.]\n",
      " [0. 0. 0. 0.]]\n"
     ]
    }
   ],
   "source": [
    "np.set_printoptions(precision=None, threshold=None, edgeitems=None, linewidth=None, suppress=None, nanstr=None, infstr=None)\n",
    "x = np.zeros((4, 4))\n",
    "print(x)"
   ]
  },
  {
   "cell_type": "markdown",
   "metadata": {},
   "source": [
    "### 10.Subtract the mean of each row of a matrix"
   ]
  },
  {
   "cell_type": "code",
   "execution_count": 19,
   "metadata": {},
   "outputs": [
    {
     "name": "stdout",
     "output_type": "stream",
     "text": [
      "Original matrix:\n",
      "\n",
      "[[0.29137476 0.1012546  0.78318688]\n",
      " [0.47169661 0.00213364 0.46753305]\n",
      " [0.50504081 0.39852115 0.91883669]]\n",
      "\n",
      "Subtract the mean of each row of the said matrix:\n",
      "\n",
      "[[-0.10056399 -0.29068414  0.39124813]\n",
      " [ 0.15790885 -0.31165413  0.15374528]\n",
      " [-0.10242541 -0.20894507  0.31137047]]\n"
     ]
    }
   ],
   "source": [
    "print(\"Original matrix:\\n\")\n",
    "X = np.random.rand(3, 3)\n",
    "print(X)\n",
    "print(\"\\nSubtract the mean of each row of the said matrix:\\n\")\n",
    "Y = X - X.mean(axis=1, keepdims=True)\n",
    "print(Y)"
   ]
  },
  {
   "cell_type": "markdown",
   "metadata": {},
   "source": [
    "### 11. Consider a given vector, how to add 1 to each element indexed by a second vector (be careful with repeated indices)?"
   ]
  },
  {
   "cell_type": "code",
   "execution_count": 20,
   "metadata": {},
   "outputs": [
    {
     "name": "stdout",
     "output_type": "stream",
     "text": [
      "Before\n",
      "[1. 1. 1. 1. 1. 1. 1. 1. 1. 1.]\n",
      "After\n",
      " [2. 5. 1. 3. 4. 2. 2. 6. 4. 1.]\n"
     ]
    }
   ],
   "source": [
    "Z = np.ones(10)\n",
    "print(\"Before\")\n",
    "print(Z)\n",
    "I = np.random.randint(0,len(Z),20)\n",
    "Z += np.bincount(I, minlength=len(Z))\n",
    "print(\"After\\n\",Z)"
   ]
  },
  {
   "cell_type": "markdown",
   "metadata": {},
   "source": [
    "### 12.How to get the diagonal of a dot product?"
   ]
  },
  {
   "cell_type": "code",
   "execution_count": 21,
   "metadata": {},
   "outputs": [
    {
     "name": "stdout",
     "output_type": "stream",
     "text": [
      "dot product= [0.12716111 1.42360267 0.7604081 ]\n"
     ]
    }
   ],
   "source": [
    "x = np.random.uniform(0,1,(3,3))\n",
    "y = np.random.uniform(0,1,(3,3))\n",
    "s=np.diag(np.dot(x,y))\n",
    "print(\"dot product=\",s)"
   ]
  },
  {
   "cell_type": "markdown",
   "metadata": {},
   "source": [
    "### 13.How to find the most frequent value in an array?"
   ]
  },
  {
   "cell_type": "code",
   "execution_count": 28,
   "metadata": {},
   "outputs": [
    {
     "name": "stdout",
     "output_type": "stream",
     "text": [
      "Array =>\t [1 8 5 9 6 3 8 6 1 3 1 9 0 7 9 9 6 0 0 8]\n",
      "most frequent value= 9\n"
     ]
    }
   ],
   "source": [
    "x = np.random.randint(0,10,20)\n",
    "print(\"Array =>\\t\",x)\n",
    "print(\"most frequent value=\",np.bincount(x).argmax())"
   ]
  },
  {
   "cell_type": "markdown",
   "metadata": {},
   "source": [
    "### 14.How to get the n largest values of an array"
   ]
  },
  {
   "cell_type": "code",
   "execution_count": 26,
   "metadata": {},
   "outputs": [
    {
     "name": "stdout",
     "output_type": "stream",
     "text": [
      "largest values= [9995 9996 9997 9998 9999]\n"
     ]
    }
   ],
   "source": [
    "x = np.arange(10000)\n",
    "np.random.shuffle(x)\n",
    "n = 5\n",
    "print(\"largest values=\",x[np.argsort(x)[-n:]])"
   ]
  },
  {
   "cell_type": "markdown",
   "metadata": {},
   "source": [
    "### 15.How to create a record array from a regular array?"
   ]
  },
  {
   "cell_type": "code",
   "execution_count": 24,
   "metadata": {},
   "outputs": [
    {
     "name": "stdout",
     "output_type": "stream",
     "text": [
      "[(b'2.5', 3.) (b'3.6', 2.)]\n"
     ]
    }
   ],
   "source": [
    "x = np.array([( 2.5, 3),\n",
    "              ( 3.6, 2)])\n",
    "y = np.core.records.fromarrays(x.T,names='col1, col2',formats = 'S8, f8')\n",
    "print(y)"
   ]
  }
 ],
 "metadata": {
  "kernelspec": {
   "display_name": "Python 3",
   "language": "python",
   "name": "python3"
  },
  "language_info": {
   "codemirror_mode": {
    "name": "ipython",
    "version": 3
   },
   "file_extension": ".py",
   "mimetype": "text/x-python",
   "name": "python",
   "nbconvert_exporter": "python",
   "pygments_lexer": "ipython3",
   "version": "3.7.6"
  }
 },
 "nbformat": 4,
 "nbformat_minor": 4
}
