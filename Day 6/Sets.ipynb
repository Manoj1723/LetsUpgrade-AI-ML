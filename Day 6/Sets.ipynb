{
 "cells": [
  {
   "cell_type": "markdown",
   "metadata": {},
   "source": [
    "# Question 3:\n",
    "Create your own Jupyter Notebook for Sets. Reference link: https://www.w3schools.com/python/python_sets.asp\n",
    "\n",
    "A set is a collection which is unordered and unindexed. In Python sets are written with curly brackets. and Set is immutable"
   ]
  },
  {
   "cell_type": "code",
   "execution_count": 2,
   "metadata": {},
   "outputs": [
    {
     "name": "stdout",
     "output_type": "stream",
     "text": [
      "{1, 'Ainz', 6.9}\n"
     ]
    }
   ],
   "source": [
    "s={1,6.9,'Ainz'}\n",
    "print(s)"
   ]
  },
  {
   "cell_type": "markdown",
   "metadata": {},
   "source": [
    "* Set Methods"
   ]
  },
  {
   "cell_type": "code",
   "execution_count": 3,
   "metadata": {},
   "outputs": [
    {
     "name": "stdout",
     "output_type": "stream",
     "text": [
      "{1, 'Ainz', 'New', 6.9}\n",
      "{1, 'list', 4, 6.9, 'add', 'Ainz', 'New'}\n"
     ]
    }
   ],
   "source": [
    "#Add Items\n",
    "s.add('New')\n",
    "print(s)\n",
    "#Add more than 1 items\n",
    "s.update(['list',4,'add'])\n",
    "print(s)"
   ]
  },
  {
   "cell_type": "code",
   "execution_count": 4,
   "metadata": {},
   "outputs": [
    {
     "name": "stdout",
     "output_type": "stream",
     "text": [
      "7\n",
      "{1, 4, 6.9, 'add', 'Ainz', 'New'}\n",
      "{4, 6.9, 'add', 'Ainz', 'New'}\n"
     ]
    }
   ],
   "source": [
    "#Get the Length of a Set\n",
    "print(len(s))\n",
    "#Remove specific Item\n",
    "s.remove('list')\n",
    "print(s)\n",
    "#Remove first item\n",
    "s.pop()\n",
    "print(s)"
   ]
  },
  {
   "cell_type": "code",
   "execution_count": 5,
   "metadata": {},
   "outputs": [
    {
     "name": "stdout",
     "output_type": "stream",
     "text": [
      "{'a', 4, 'New', 6.9, 'add', 'b', 'Ainz'}\n"
     ]
    }
   ],
   "source": [
    "# join 2 sets\n",
    "s1={\"a\",'b'}\n",
    "s=s.union(s1)\n",
    "print(s)"
   ]
  },
  {
   "cell_type": "code",
   "execution_count": 6,
   "metadata": {},
   "outputs": [
    {
     "name": "stdout",
     "output_type": "stream",
     "text": [
      "set()\n"
     ]
    }
   ],
   "source": [
    "#clear all the elements from the set\n",
    "s.clear()\n",
    "print(s)"
   ]
  }
 ],
 "metadata": {
  "kernelspec": {
   "display_name": "Python 3",
   "language": "python",
   "name": "python3"
  },
  "language_info": {
   "codemirror_mode": {
    "name": "ipython",
    "version": 3
   },
   "file_extension": ".py",
   "mimetype": "text/x-python",
   "name": "python",
   "nbconvert_exporter": "python",
   "pygments_lexer": "ipython3",
   "version": "3.7.6"
  }
 },
 "nbformat": 4,
 "nbformat_minor": 4
}
