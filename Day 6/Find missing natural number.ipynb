{
 "cells": [
  {
   "cell_type": "markdown",
   "metadata": {},
   "source": [
    "# Question 4:\n",
    "Given a list of n-1 numbers ranging from 1 to n, your task is to find the missing number. There are no duplicates."
   ]
  },
  {
   "cell_type": "code",
   "execution_count": 15,
   "metadata": {},
   "outputs": [
    {
     "name": "stdout",
     "output_type": "stream",
     "text": [
      "enter the numbers seperated by spaces\n",
      "58 54 53 57 56\n",
      "Missing number is 55\n"
     ]
    }
   ],
   "source": [
    "s=input(\"enter the numbers seperated by spaces\\n\")\n",
    "s=s.split()\n",
    "for i in range(len(s)):\n",
    "    s[i]=int(s[i])\n",
    "s.sort()\n",
    "for i in range(1,len(s)):\n",
    "    if s[i] == s[i-1]+1:\n",
    "        pass\n",
    "    else:\n",
    "        print(\"Missing number is\",s[i]-1)"
   ]
  }
 ],
 "metadata": {
  "kernelspec": {
   "display_name": "Python 3",
   "language": "python",
   "name": "python3"
  },
  "language_info": {
   "codemirror_mode": {
    "name": "ipython",
    "version": 3
   },
   "file_extension": ".py",
   "mimetype": "text/x-python",
   "name": "python",
   "nbconvert_exporter": "python",
   "pygments_lexer": "ipython3",
   "version": "3.7.6"
  }
 },
 "nbformat": 4,
 "nbformat_minor": 4
}
