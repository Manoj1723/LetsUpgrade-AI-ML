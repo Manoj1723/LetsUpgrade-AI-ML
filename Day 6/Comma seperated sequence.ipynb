{
 "cells": [
  {
   "cell_type": "markdown",
   "metadata": {},
   "source": [
    "# Question 2:\n",
    "Write a program that accepts a comma-separated sequence of words as input and prints the words in a comma separated sequence after sorting them alphabetically."
   ]
  },
  {
   "cell_type": "code",
   "execution_count": 2,
   "metadata": {},
   "outputs": [
    {
     "name": "stdout",
     "output_type": "stream",
     "text": [
      "Enter the sequence of words separated by the comma\n",
      "Hey,John,Monkey,Luffy,Zoro,Hello\n",
      "After sorting\n",
      "\n",
      "Hello,Hey,John,Luffy,Monkey,Zoro\n"
     ]
    }
   ],
   "source": [
    "s=input(\"Enter the sequence of words separated by the comma\\n\")\n",
    "s=s.split(',')\n",
    "s.sort()\n",
    "print('After sorting\\n')\n",
    "print(*s,sep=',')"
   ]
  }
 ],
 "metadata": {
  "kernelspec": {
   "display_name": "Python 3",
   "language": "python",
   "name": "python3"
  },
  "language_info": {
   "codemirror_mode": {
    "name": "ipython",
    "version": 3
   },
   "file_extension": ".py",
   "mimetype": "text/x-python",
   "name": "python",
   "nbconvert_exporter": "python",
   "pygments_lexer": "ipython3",
   "version": "3.7.6"
  }
 },
 "nbformat": 4,
 "nbformat_minor": 4
}
