{
 "cells": [
  {
   "cell_type": "markdown",
   "metadata": {},
   "source": [
    "# Question 5:\n",
    "With a given list L, write a program to print this list L after removing all duplicate values with original order reserved."
   ]
  },
  {
   "cell_type": "code",
   "execution_count": 2,
   "metadata": {},
   "outputs": [
    {
     "name": "stdout",
     "output_type": "stream",
     "text": [
      "Enter elements seperated by space\n",
      "89 56 35 56 25 56 89 25\n",
      "After removing duplicate values, list values are\n",
      "[89, 56, 35, 25]\n"
     ]
    }
   ],
   "source": [
    "print(\"Enter elements seperated by space\")\n",
    "l=[int(x) for x in input().split()]\n",
    "print(\"After removing duplicate values, list values are\")\n",
    "r=[]\n",
    "for i in l:\n",
    "    if i not in r:\n",
    "        r.append(i)\n",
    "print(r)"
   ]
  }
 ],
 "metadata": {
  "kernelspec": {
   "display_name": "Python 3",
   "language": "python",
   "name": "python3"
  },
  "language_info": {
   "codemirror_mode": {
    "name": "ipython",
    "version": 3
   },
   "file_extension": ".py",
   "mimetype": "text/x-python",
   "name": "python",
   "nbconvert_exporter": "python",
   "pygments_lexer": "ipython3",
   "version": "3.7.6"
  }
 },
 "nbformat": 4,
 "nbformat_minor": 4
}
