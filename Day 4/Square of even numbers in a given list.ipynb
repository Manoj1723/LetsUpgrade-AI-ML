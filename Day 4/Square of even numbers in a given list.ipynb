{
 "cells": [
  {
   "cell_type": "markdown",
   "metadata": {},
   "source": [
    "# Question 4:\n",
    "Consider a list of 10 elements of integer values. If the number in the list is divisible by 2, print the result as \"square of that number minus 2\"."
   ]
  },
  {
   "cell_type": "code",
   "execution_count": 1,
   "metadata": {},
   "outputs": [
    {
     "name": "stdout",
     "output_type": "stream",
     "text": [
      "square of 86 - 2 = 7394\n",
      "square of 18 - 2 = 322\n",
      "square of 36 - 2 = 1294\n",
      "square of 94 - 2 = 8834\n",
      "square of 14 - 2 = 194\n"
     ]
    }
   ],
   "source": [
    "lst=[9,86,59,35,18,25,36,77,94,14]\n",
    "for l in lst:\n",
    "    if l%2==0:\n",
    "        print(\"square of\",l,\"- 2 =\",l**2-2)"
   ]
  }
 ],
 "metadata": {
  "kernelspec": {
   "display_name": "Python 3",
   "language": "python",
   "name": "python3"
  },
  "language_info": {
   "codemirror_mode": {
    "name": "ipython",
    "version": 3
   },
   "file_extension": ".py",
   "mimetype": "text/x-python",
   "name": "python",
   "nbconvert_exporter": "python",
   "pygments_lexer": "ipython3",
   "version": "3.7.6"
  }
 },
 "nbformat": 4,
 "nbformat_minor": 4
}
