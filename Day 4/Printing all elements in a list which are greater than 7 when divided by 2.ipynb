{
 "cells": [
  {
   "cell_type": "markdown",
   "metadata": {},
   "source": [
    "# Question 5:\n",
    "Consider a list of 10 elements. Print all the elements in the list which are greater than 7 when that number is divided 2."
   ]
  },
  {
   "cell_type": "code",
   "execution_count": 1,
   "metadata": {},
   "outputs": [
    {
     "name": "stdout",
     "output_type": "stream",
     "text": [
      "25 divided 2 = 12 ïs greater than 7\n",
      "57 divided 2 = 28 ïs greater than 7\n",
      "45 divided 2 = 22 ïs greater than 7\n",
      "99 divided 2 = 49 ïs greater than 7\n",
      "69 divided 2 = 34 ïs greater than 7\n",
      "17 divided 2 = 8 ïs greater than 7\n",
      "62 divided 2 = 31 ïs greater than 7\n",
      "111 divided 2 = 55 ïs greater than 7\n"
     ]
    }
   ],
   "source": [
    "lst=[25,3,57,45,7,99,69,17,62,111]\n",
    "for l in lst:\n",
    "    if int(l/2) >7:\n",
    "        print(l,\"divided 2 =\",int(l/2),\"ïs greater than 7\")"
   ]
  }
 ],
 "metadata": {
  "kernelspec": {
   "display_name": "Python 3",
   "language": "python",
   "name": "python3"
  },
  "language_info": {
   "codemirror_mode": {
    "name": "ipython",
    "version": 3
   },
   "file_extension": ".py",
   "mimetype": "text/x-python",
   "name": "python",
   "nbconvert_exporter": "python",
   "pygments_lexer": "ipython3",
   "version": "3.7.6"
  }
 },
 "nbformat": 4,
 "nbformat_minor": 4
}
