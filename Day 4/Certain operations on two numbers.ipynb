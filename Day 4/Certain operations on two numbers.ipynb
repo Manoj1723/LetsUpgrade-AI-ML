{
 "cells": [
  {
   "cell_type": "markdown",
   "metadata": {},
   "source": [
    "# Question 3:\n",
    "Consider two numbers. Perform their subtraction and if the result of subtraction is greater than 25, print their multiplication result else print their division result."
   ]
  },
  {
   "cell_type": "code",
   "execution_count": 4,
   "metadata": {},
   "outputs": [
    {
     "name": "stdout",
     "output_type": "stream",
     "text": [
      "Enter first no\n",
      "56\n",
      "Enter second no\n",
      "49\n",
      "7 is lesser than 25\n",
      "result= 1.14\n"
     ]
    }
   ],
   "source": [
    "a=int(input(\"Enter first no\\n\"))\n",
    "b=int(input(\"Enter second no\\n\"))\n",
    "if a-b > 25:\n",
    "    print(a-b,\"is greater than 25\")\n",
    "    print(\"result=\",a*b)\n",
    "else:\n",
    "    print(a-b,\"is lesser than 25\")\n",
    "    print(\"result=\",round(a/b,2))"
   ]
  }
 ],
 "metadata": {
  "kernelspec": {
   "display_name": "Python 3",
   "language": "python",
   "name": "python3"
  },
  "language_info": {
   "codemirror_mode": {
    "name": "ipython",
    "version": 3
   },
   "file_extension": ".py",
   "mimetype": "text/x-python",
   "name": "python",
   "nbconvert_exporter": "python",
   "pygments_lexer": "ipython3",
   "version": "3.7.6"
  }
 },
 "nbformat": 4,
 "nbformat_minor": 4
}
