{
 "cells": [
  {
   "cell_type": "markdown",
   "metadata": {},
   "source": [
    "# Question 1 :\n",
    "Research on whether addition, subtraction, multiplication, division, floor division and modulo operations be performed on complex numbers. Based on your study, implement a Python program to demonstrate these operations."
   ]
  },
  {
   "cell_type": "code",
   "execution_count": 1,
   "metadata": {},
   "outputs": [
    {
     "name": "stdout",
     "output_type": "stream",
     "text": [
      "Sum= (76+12j)\n",
      "Difference= (-62-6j)\n",
      "Product= (456+270j)\n",
      "Quotient= (0.10532837670384138+0.02973977695167286j)\n"
     ]
    }
   ],
   "source": [
    "a=(7+3j)\n",
    "b=(69+9j)\n",
    "print(\"Sum=\",a+b)\n",
    "print(\"Difference=\",a-b)\n",
    "print(\"Product=\",a*b)\n",
    "print(\"Quotient=\",a/b)\n",
    "# floor division= a // b  is not possible for complex no\n",
    "# modulo= a % b  is not possible with complex no"
   ]
  }
 ],
 "metadata": {
  "kernelspec": {
   "display_name": "Python 3",
   "language": "python",
   "name": "python3"
  },
  "language_info": {
   "codemirror_mode": {
    "name": "ipython",
    "version": 3
   },
   "file_extension": ".py",
   "mimetype": "text/x-python",
   "name": "python",
   "nbconvert_exporter": "python",
   "pygments_lexer": "ipython3",
   "version": "3.7.6"
  }
 },
 "nbformat": 4,
 "nbformat_minor": 4
}
