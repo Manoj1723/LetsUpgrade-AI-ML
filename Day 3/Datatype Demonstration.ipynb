{
 "cells": [
  {
   "cell_type": "markdown",
   "metadata": {},
   "source": [
    "# Question 6:\n",
    "Write a program to demonstrate all the available data types in Python."
   ]
  },
  {
   "cell_type": "code",
   "execution_count": 1,
   "metadata": {},
   "outputs": [
    {
     "name": "stdout",
     "output_type": "stream",
     "text": [
      "69 = <class 'int'>\n",
      "58.75 = <class 'float'>\n",
      "AIML = <class 'str'>\n",
      "(7+5j) = <class 'complex'>\n",
      "True = <class 'bool'>\n",
      "[89, 4.5] = <class 'list'>\n",
      "{5, 6} = <class 'set'>\n",
      "(7, 4) = <class 'tuple'>\n",
      "{1: 'LU', 2: 'AIML'} = <class 'dict'>\n"
     ]
    }
   ],
   "source": [
    "a=69\n",
    "print(a,\"=\",type(a))\n",
    "a=58.75\n",
    "print(a,\"=\",type(a))\n",
    "a='AIML'\n",
    "print(a,\"=\",type(a))\n",
    "a=7+5j\n",
    "print(a,\"=\",type(a))\n",
    "a=True\n",
    "print(a,\"=\",type(a))\n",
    "a=[89,4.5]\n",
    "print(a,\"=\",type(a))\n",
    "a={5,6}\n",
    "print(a,\"=\",type(a))\n",
    "a=(7,4)\n",
    "print(a,\"=\",type(a))\n",
    "a={1:'LU',2:'AIML'}\n",
    "print(a,\"=\",type(a))"
   ]
  }
 ],
 "metadata": {
  "kernelspec": {
   "display_name": "Python 3",
   "language": "python",
   "name": "python3"
  },
  "language_info": {
   "codemirror_mode": {
    "name": "ipython",
    "version": 3
   },
   "file_extension": ".py",
   "mimetype": "text/x-python",
   "name": "python",
   "nbconvert_exporter": "python",
   "pygments_lexer": "ipython3",
   "version": "3.7.6"
  }
 },
 "nbformat": 4,
 "nbformat_minor": 4
}
