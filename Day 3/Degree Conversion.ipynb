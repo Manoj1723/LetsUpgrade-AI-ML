{
 "cells": [
  {
   "cell_type": "markdown",
   "metadata": {},
   "source": [
    "# Question 5:\n",
    "Write a program to convert fahrenheit to kelvin and celsius both."
   ]
  },
  {
   "cell_type": "code",
   "execution_count": 5,
   "metadata": {},
   "outputs": [
    {
     "name": "stdout",
     "output_type": "stream",
     "text": [
      "Enter temperature in faranheit:97.\n",
      "97.0 fahrenheit in kelvin = 309.61 and in celsius= 36.11\n"
     ]
    }
   ],
   "source": [
    "f=float(input(\"Enter temperature in faranheit:\"))\n",
    "k=273.5 + ((f - 32.0) * (5.0/9.0))\n",
    "c = (5.0/9) * (f - 32);\n",
    "print(f,'fahrenheit in kelvin =',round(k,2),\"and in celsius=\",round(c,2))"
   ]
  }
 ],
 "metadata": {
  "kernelspec": {
   "display_name": "Python 3",
   "language": "python",
   "name": "python3"
  },
  "language_info": {
   "codemirror_mode": {
    "name": "ipython",
    "version": 3
   },
   "file_extension": ".py",
   "mimetype": "text/x-python",
   "name": "python",
   "nbconvert_exporter": "python",
   "pygments_lexer": "ipython3",
   "version": "3.7.6"
  }
 },
 "nbformat": 4,
 "nbformat_minor": 4
}
